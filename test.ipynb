{
 "cells": [
  {
   "cell_type": "markdown",
   "metadata": {},
   "source": [
    "## Data Augmentation"
   ]
  },
  {
   "cell_type": "markdown",
   "metadata": {},
   "source": [
    "## Oversampling for asian dataset by using SMOTE"
   ]
  },
  {
   "cell_type": "code",
   "execution_count": 2,
   "metadata": {},
   "outputs": [
    {
     "name": "stdout",
     "output_type": "stream",
     "text": [
      "Exercise Recommendation Plan\n",
      "6    1527\n",
      "5    1527\n",
      "4    1527\n",
      "7    1527\n",
      "1    1527\n",
      "3    1527\n",
      "2    1527\n",
      "Name: count, dtype: int64\n",
      "             Weight        Height           Age  Exercise Recommendation Plan\n",
      "count  10689.000000  10689.000000  10689.000000                  10689.000000\n",
      "mean      73.096537      1.792563     41.347554                      4.000000\n",
      "std       21.167430      0.125538     13.746923                      2.000094\n",
      "min       50.000000      1.390171     18.000000                      1.000000\n",
      "25%       55.956581      1.731472     29.000000                      2.000000\n",
      "50%       65.728249      1.805061     41.000000                      4.000000\n",
      "75%       87.356168      1.891175     53.000000                      6.000000\n",
      "max      160.000000      1.990000     65.000000                      7.000000\n"
     ]
    }
   ],
   "source": [
    "import pandas as pd\n",
    "from imblearn.over_sampling import SMOTE\n",
    "\n",
    "DATASET_PATH = r'D:\\StudySpace\\Nam4_KyI\\cap1_ai_feature\\data\\final_dataset_asian.csv'\n",
    "\n",
    "# Load the data\n",
    "df = pd.read_csv(DATASET_PATH)\n",
    "X = df[['Weight', 'Height', 'Age']]\n",
    "y = df['Exercise Recommendation Plan']\n",
    "\n",
    "smote = SMOTE(sampling_strategy='auto', random_state=42)\n",
    "X_resampled, y_resampled = smote.fit_resample(X, y)\n",
    "\n",
    "print(pd.Series(y_resampled).value_counts())\n",
    "updated_df = pd.concat([X_resampled, y_resampled], axis=1)\n",
    "# Save the updated data\n",
    "\n",
    "# df.to_csv(DATASET_PATH, index=False)\n",
    "\n",
    "print(updated_df.describe()) "
   ]
  },
  {
   "cell_type": "code",
   "execution_count": 3,
   "metadata": {},
   "outputs": [
    {
     "name": "stderr",
     "output_type": "stream",
     "text": [
      "C:\\Users\\ACER\\AppData\\Local\\Temp\\ipykernel_3492\\2789010749.py:25: FutureWarning: Series.__getitem__ treating keys as positions is deprecated. In a future version, integer keys will always be treated as labels (consistent with DataFrame behavior). To access a value by position, use `ser.iloc[pos]`\n",
      "  X_resampled['Gender'] = X_resampled[['Gender_Male']].apply(lambda x: 'Male' if x[0] == 1 else 'Female', axis=1)\n"
     ]
    },
    {
     "name": "stdout",
     "output_type": "stream",
     "text": [
      "Dataset after oversampling:\n",
      "Exercise Recommendation Plan\n",
      "6    1527\n",
      "5    1527\n",
      "4    1527\n",
      "7    1527\n",
      "1    1527\n",
      "3    1527\n",
      "2    1527\n",
      "Name: count, dtype: int64\n"
     ]
    }
   ],
   "source": [
    "import pandas as pd\n",
    "from imblearn.over_sampling import SMOTE\n",
    "\n",
    "DATASET_PATH = r'D:\\StudySpace\\Nam4_KyI\\cap1_ai_feature\\data\\final_dataset_asian.csv'\n",
    "OUTPUT_PATH = r'D:\\StudySpace\\Nam4_KyI\\cap1_ai_feature\\data\\oversampled_dataset.csv'\n",
    "\n",
    "df = pd.read_csv(DATASET_PATH)\n",
    "\n",
    "# Chọn các đặc trưng và nhãn mục tiêu\n",
    "X = df[['Weight', 'Height', 'BMI', 'Gender', 'Age', 'BMIcase']]\n",
    "y = df['Exercise Recommendation Plan']\n",
    "\n",
    "# Transform the categorical columns into one-hot encoded columns\n",
    "X_encoded = pd.get_dummies(X, columns=['Gender', 'BMIcase'], drop_first=True)\n",
    "\n",
    "smote = SMOTE(sampling_strategy='auto', random_state=42)\n",
    "X_resampled, y_resampled = smote.fit_resample(X_encoded, y)\n",
    "\n",
    "# Transform the resampled features back to DataFrame\n",
    "X_resampled = pd.DataFrame(X_resampled, columns=X_encoded.columns)\n",
    "\n",
    "# Process Gender column\n",
    "X_resampled['Gender'] = X_resampled[['Gender_Male']].apply(lambda x: 'Male' if x[0] == 1 else 'Female', axis=1)\n",
    "X_resampled.drop(columns=['Gender_Male'], inplace=True)\n",
    "\n",
    "# Process the BMIcase columns\n",
    "bmicase_columns = [col for col in X_resampled.columns if col.startswith('BMIcase_')]\n",
    "X_resampled['BMIcase'] = X_resampled[bmicase_columns].idxmax(axis=1).apply(lambda x: x.split('_')[1])\n",
    "X_resampled.drop(columns=bmicase_columns, inplace=True)\n",
    "\n",
    "# Combine features and target into a single DataFrame\n",
    "resampled_df = pd.concat([X_resampled, pd.Series(y_resampled, name='Exercise Recommendation Plan')], axis=1)\n",
    "\n",
    "resampled_df.to_csv(OUTPUT_PATH, index=False)\n",
    "\n",
    "print(\"Dataset after oversampling:\")\n",
    "print(resampled_df['Exercise Recommendation Plan'].value_counts())\n"
   ]
  },
  {
   "cell_type": "markdown",
   "metadata": {},
   "source": [
    "## Oversampling for european dataset by using SMOTE"
   ]
  },
  {
   "cell_type": "code",
   "execution_count": 1,
   "metadata": {},
   "outputs": [
    {
     "name": "stderr",
     "output_type": "stream",
     "text": [
      "C:\\Users\\ACER\\AppData\\Local\\Temp\\ipykernel_1988\\1593552405.py:23: FutureWarning: Series.__getitem__ treating keys as positions is deprecated. In a future version, integer keys will always be treated as labels (consistent with DataFrame behavior). To access a value by position, use `ser.iloc[pos]`\n",
      "  X_resampled['Gender'] = X_resampled[['Gender_Male']].apply(lambda x: 'Male' if x[0] == 1 else 'Female', axis=1)\n"
     ]
    },
    {
     "name": "stdout",
     "output_type": "stream",
     "text": [
      "Dataset after oversampling:\n",
      "Exercise Recommendation Plan\n",
      "5    1467\n",
      "4    1467\n",
      "6    1467\n",
      "7    1467\n",
      "1    1467\n",
      "3    1467\n",
      "2    1467\n",
      "Name: count, dtype: int64\n"
     ]
    }
   ],
   "source": [
    "import pandas as pd\n",
    "from imblearn.over_sampling import SMOTE\n",
    "\n",
    "# Đường dẫn đến tập dữ liệu gốc\n",
    "DATASET_PATH = r'D:\\StudySpace\\Nam4_KyI\\cap1_ai_feature\\data\\final_dataset.csv'\n",
    "OUTPUT_PATH = r'D:\\StudySpace\\Nam4_KyI\\cap1_ai_feature\\data\\balanced_dataset_european.csv'\n",
    "\n",
    "df = pd.read_csv(DATASET_PATH)\n",
    "\n",
    "X = df[['Weight', 'Height', 'BMI', 'Gender', 'Age', 'BMIcase']]\n",
    "y = df['Exercise Recommendation Plan']\n",
    "\n",
    "# Transform the categorical columns into one-hot encoded columns\n",
    "X_encoded = pd.get_dummies(X, columns=['Gender', 'BMIcase'], drop_first=True)\n",
    "\n",
    "smote = SMOTE(sampling_strategy='auto', random_state=42)\n",
    "X_resampled, y_resampled = smote.fit_resample(X_encoded, y)\n",
    "\n",
    "# Transform the resampled features back to DataFrame\n",
    "X_resampled = pd.DataFrame(X_resampled, columns=X_encoded.columns)\n",
    "\n",
    "# Process Gender column\n",
    "X_resampled['Gender'] = X_resampled[['Gender_Male']].apply(lambda x: 'Male' if x[0] == 1 else 'Female', axis=1)\n",
    "X_resampled.drop(columns=['Gender_Male'], inplace=True)\n",
    "\n",
    "# Process the BMIcase columns\n",
    "bmicase_columns = [col for col in X_resampled.columns if col.startswith('BMIcase_')]\n",
    "X_resampled['BMIcase'] = X_resampled[bmicase_columns].idxmax(axis=1).apply(lambda x: x.split('_')[1])\n",
    "X_resampled.drop(columns=bmicase_columns, inplace=True)\n",
    "\n",
    "# Combine features and target into a single DataFrame\n",
    "resampled_df = pd.concat([X_resampled, pd.Series(y_resampled, name='Exercise Recommendation Plan')], axis=1)\n",
    "\n",
    "resampled_df.to_csv(OUTPUT_PATH, index=False)\n",
    "\n",
    "print(\"Dataset after oversampling:\")\n",
    "print(resampled_df['Exercise Recommendation Plan'].value_counts())\n"
   ]
  },
  {
   "cell_type": "markdown",
   "metadata": {},
   "source": [
    "# Posture Checking Test"
   ]
  },
  {
   "cell_type": "code",
   "execution_count": 5,
   "metadata": {},
   "outputs": [
    {
     "name": "stdout",
     "output_type": "stream",
     "text": [
      "\n",
      "General configuration for OpenCV 4.11.0 =====================================\n",
      "  Version control:               4.11.0\n",
      "\n",
      "  Platform:\n",
      "    Timestamp:                   2025-01-16T09:54:51Z\n",
      "    Host:                        Windows 10.0.17763 AMD64\n",
      "    CMake:                       3.24.2\n",
      "    CMake generator:             Visual Studio 14 2015\n",
      "    CMake build tool:            MSBuild.exe\n",
      "    MSVC:                        1900\n",
      "    Configuration:               Debug Release\n",
      "    Algorithm Hint:              ALGO_HINT_ACCURATE\n",
      "\n",
      "  CPU/HW features:\n",
      "    Baseline:                    SSE SSE2 SSE3\n",
      "      requested:                 SSE3\n",
      "    Dispatched code generation:  SSE4_1 SSE4_2 AVX FP16 AVX2\n",
      "      requested:                 SSE4_1 SSE4_2 AVX FP16 AVX2 AVX512_SKX\n",
      "      SSE4_1 (16 files):         + SSSE3 SSE4_1\n",
      "      SSE4_2 (1 files):          + SSSE3 SSE4_1 POPCNT SSE4_2\n",
      "      AVX (8 files):             + SSSE3 SSE4_1 POPCNT SSE4_2 AVX\n",
      "      FP16 (0 files):            + SSSE3 SSE4_1 POPCNT SSE4_2 AVX FP16\n",
      "      AVX2 (36 files):           + SSSE3 SSE4_1 POPCNT SSE4_2 AVX FP16 AVX2 FMA3\n",
      "\n",
      "  C/C++:\n",
      "    Built as dynamic libs?:      NO\n",
      "    C++ standard:                11\n",
      "    C++ Compiler:                C:/Program Files (x86)/Microsoft Visual Studio 14.0/VC/bin/x86_amd64/cl.exe  (ver 19.0.24247.2)\n",
      "    C++ flags (Release):         /DWIN32 /D_WINDOWS /W4 /GR  /D _CRT_SECURE_NO_DEPRECATE /D _CRT_NONSTDC_NO_DEPRECATE /D _SCL_SECURE_NO_WARNINGS /Gy /bigobj /Oi  /fp:precise    /EHa /wd4127 /wd4251 /wd4324 /wd4275 /wd4512 /wd4589 /wd4819 /MP  /O2 /Ob2 /DNDEBUG \n",
      "    C++ flags (Debug):           /DWIN32 /D_WINDOWS /W4 /GR  /D _CRT_SECURE_NO_DEPRECATE /D _CRT_NONSTDC_NO_DEPRECATE /D _SCL_SECURE_NO_WARNINGS /Gy /bigobj /Oi  /fp:precise    /EHa /wd4127 /wd4251 /wd4324 /wd4275 /wd4512 /wd4589 /wd4819 /MP  /Zi /Ob0 /Od /RTC1 \n",
      "    C Compiler:                  C:/Program Files (x86)/Microsoft Visual Studio 14.0/VC/bin/x86_amd64/cl.exe\n",
      "    C flags (Release):           /DWIN32 /D_WINDOWS /W3  /D _CRT_SECURE_NO_DEPRECATE /D _CRT_NONSTDC_NO_DEPRECATE /D _SCL_SECURE_NO_WARNINGS /Gy /bigobj /Oi  /fp:precise    /MP   /O2 /Ob2 /DNDEBUG \n",
      "    C flags (Debug):             /DWIN32 /D_WINDOWS /W3  /D _CRT_SECURE_NO_DEPRECATE /D _CRT_NONSTDC_NO_DEPRECATE /D _SCL_SECURE_NO_WARNINGS /Gy /bigobj /Oi  /fp:precise    /MP /Zi /Ob0 /Od /RTC1 \n",
      "    Linker flags (Release):      /machine:x64  /NODEFAULTLIB:atlthunk.lib /INCREMENTAL:NO  /NODEFAULTLIB:libcmtd.lib /NODEFAULTLIB:libcpmtd.lib /NODEFAULTLIB:msvcrtd.lib\n",
      "    Linker flags (Debug):        /machine:x64  /NODEFAULTLIB:atlthunk.lib /debug /INCREMENTAL  /NODEFAULTLIB:libcmt.lib /NODEFAULTLIB:libcpmt.lib /NODEFAULTLIB:msvcrt.lib\n",
      "    ccache:                      NO\n",
      "    Precompiled headers:         YES\n",
      "    Extra dependencies:          wsock32 comctl32 gdi32 ole32 setupapi ws2_32\n",
      "    3rdparty dependencies:       libprotobuf ade ittnotify libjpeg-turbo libwebp libpng libtiff libopenjp2 IlmImf zlib ippiw ippicv\n",
      "\n",
      "  OpenCV modules:\n",
      "    To be built:                 calib3d core dnn features2d flann gapi highgui imgcodecs imgproc ml objdetect photo python3 stitching video videoio\n",
      "    Disabled:                    java world\n",
      "    Disabled by dependency:      -\n",
      "    Unavailable:                 python2 ts\n",
      "    Applications:                -\n",
      "    Documentation:               NO\n",
      "    Non-free algorithms:         NO\n",
      "\n",
      "  Windows RT support:            NO\n",
      "\n",
      "  GUI:                           NONE\n",
      "    VTK support:                 NO\n",
      "\n",
      "  Media I/O: \n",
      "    ZLib:                        build (ver 1.3.1)\n",
      "    JPEG:                        build-libjpeg-turbo (ver 3.0.3-70)\n",
      "      SIMD Support Request:      YES\n",
      "      SIMD Support:              YES\n",
      "    WEBP:                        build (ver decoder: 0x0209, encoder: 0x020f, demux: 0x0107)\n",
      "    AVIF:                        NO\n",
      "    PNG:                         build (ver 1.6.43)\n",
      "      SIMD Support Request:      YES\n",
      "      SIMD Support:              YES (Intel SSE)\n",
      "    TIFF:                        build (ver 42 - 4.6.0)\n",
      "    JPEG 2000:                   build (ver 2.5.0)\n",
      "    OpenEXR:                     build (ver 2.3.0)\n",
      "    GIF:                         NO\n",
      "    HDR:                         YES\n",
      "    SUNRASTER:                   YES\n",
      "    PXM:                         YES\n",
      "    PFM:                         YES\n",
      "\n",
      "  Video I/O:\n",
      "    FFMPEG:                      YES (prebuilt binaries)\n",
      "      avcodec:                   YES (58.134.100)\n",
      "      avformat:                  YES (58.76.100)\n",
      "      avutil:                    YES (56.70.100)\n",
      "      swscale:                   YES (5.9.100)\n",
      "      avresample:                YES (4.0.0)\n",
      "    GStreamer:                   NO\n",
      "    DirectShow:                  YES\n",
      "\n",
      "  Parallel framework:            Concurrency\n",
      "\n",
      "  Trace:                         YES (with Intel ITT)\n",
      "\n",
      "  Other third-party libraries:\n",
      "    Intel IPP:                   2021.12.0 [2021.12.0]\n",
      "           at:                   D:/a/opencv-python/opencv-python/_skbuild/win-amd64-3.9/cmake-build/3rdparty/ippicv/ippicv_win/icv\n",
      "    Intel IPP IW:                sources (2021.12.0)\n",
      "              at:                D:/a/opencv-python/opencv-python/_skbuild/win-amd64-3.9/cmake-build/3rdparty/ippicv/ippicv_win/iw\n",
      "    Lapack:                      NO\n",
      "    Eigen:                       NO\n",
      "    Custom HAL:                  NO\n",
      "    Protobuf:                    build (3.19.1)\n",
      "    Flatbuffers:                 builtin/3rdparty (23.5.9)\n",
      "\n",
      "  OpenCL:                        YES (NVD3D11)\n",
      "    Include path:                D:/a/opencv-python/opencv-python/opencv/3rdparty/include/opencl/1.2\n",
      "    Link libraries:              Dynamic load\n",
      "\n",
      "  Python 3:\n",
      "    Interpreter:                 C:/hostedtoolcache/windows/Python/3.9.13/x64/python.exe (ver 3.9.13)\n",
      "    Libraries:                   C:/hostedtoolcache/windows/Python/3.9.13/x64/libs/python39.lib (ver 3.9.13)\n",
      "    Limited API:                 YES (ver 0x03060000)\n",
      "    numpy:                       C:/hostedtoolcache/windows/Python/3.9.13/x64/lib/site-packages/numpy/_core/include (ver 2.0.2)\n",
      "    install path:                python/cv2/python-3\n",
      "\n",
      "  Python (for build):            C:\\hostedtoolcache\\windows\\Python\\3.9.13\\x64\\python.exe\n",
      "\n",
      "  Java:                          \n",
      "    ant:                         NO\n",
      "    Java:                        YES (ver 1.8.0.432)\n",
      "    JNI:                         C:/hostedtoolcache/windows/Java_Temurin-Hotspot_jdk/8.0.432-6/x64/include C:/hostedtoolcache/windows/Java_Temurin-Hotspot_jdk/8.0.432-6/x64/include/win32 C:/hostedtoolcache/windows/Java_Temurin-Hotspot_jdk/8.0.432-6/x64/include\n",
      "    Java wrappers:               NO\n",
      "    Java tests:                  NO\n",
      "\n",
      "  Install to:                    D:/a/opencv-python/opencv-python/_skbuild/win-amd64-3.9/cmake-install\n",
      "-----------------------------------------------------------------\n",
      "\n",
      "\n"
     ]
    }
   ],
   "source": [
    "import cv2\n",
    "print(cv2.getBuildInformation())"
   ]
  }
 ],
 "metadata": {
  "kernelspec": {
   "display_name": "cap1_ai_feature",
   "language": "python",
   "name": "python3"
  },
  "language_info": {
   "codemirror_mode": {
    "name": "ipython",
    "version": 3
   },
   "file_extension": ".py",
   "mimetype": "text/x-python",
   "name": "python",
   "nbconvert_exporter": "python",
   "pygments_lexer": "ipython3",
   "version": "3.11.4"
  }
 },
 "nbformat": 4,
 "nbformat_minor": 2
}
