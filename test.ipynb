{
 "cells": [
  {
   "cell_type": "code",
   "execution_count": 1,
   "metadata": {},
   "outputs": [
    {
     "name": "stdout",
     "output_type": "stream",
     "text": [
      "       Weight    Height        BMI  Gender  Age     BMIcase  \\\n",
      "0   92.085190  1.760250  29.719488  Female   59       Obese   \n",
      "1   61.089124  1.595499  23.997776  Female   25  Overweight   \n",
      "2   82.454037  1.816538  24.987499  Female   50  Overweight   \n",
      "3  101.713306  1.790696  31.720047  Female   62       Obese   \n",
      "4   99.609527  1.969726  25.673756    Male   57  Overweight   \n",
      "\n",
      "   Exercise Recommendation Plan  \n",
      "0                             6  \n",
      "1                             5  \n",
      "2                             5  \n",
      "3                             6  \n",
      "4                             5  \n"
     ]
    }
   ],
   "source": [
    "import pandas as pd\n",
    "\n",
    "DATASET_PATH = r'D:\\StudySpace\\Nam4_KyI\\cap1_ai_feature\\data\\final_dataset_asian.csv'\n",
    "\n",
    "# Define BMI ranges and exercise plans for asian people\n",
    "bmi_categories = {\n",
    "    (0, 16): (\"Severe Thinness\", 1),\n",
    "    (16, 17): (\"Mild Thinness\", 2),\n",
    "    (17, 18.5): (\"Moderate Thinness\", 3),\n",
    "    (18.5, 23): (\"Normal\", 4),\n",
    "    (23, 27.5): (\"Overweight\", 5),\n",
    "    (27.5, 32.5): (\"Obese\", 6),\n",
    "    (32.5, float('inf')): (\"Severe Obese\", 7),  # Use infinity for the upper bound\n",
    "}\n",
    "\n",
    "def categorize_bmi(bmi):\n",
    "    \"\"\"Categorizes BMI based on predefined ranges.\"\"\"\n",
    "    for (lower, upper), (category, plan) in bmi_categories.items():\n",
    "        if lower <= bmi < upper:\n",
    "            return category, plan\n",
    "\n",
    "# Load the data\n",
    "df = pd.read_csv(DATASET_PATH)\n",
    "\n",
    "# Apply the function and unpack the results\n",
    "df['BMIcase'], df['Exercise Recommendation Plan'] = zip(*df['BMI'].apply(categorize_bmi))\n",
    "\n",
    "# print(df.head())\n",
    "\n",
    "# # Save the updated data\n",
    "df.to_csv(DATASET_PATH, index=False)\n",
    "\n",
    "print(df.head()) "
   ]
  },
  {
   "cell_type": "markdown",
   "metadata": {},
   "source": [
    "## Data Augmentation"
   ]
  },
  {
   "cell_type": "code",
   "execution_count": 2,
   "metadata": {},
   "outputs": [
    {
     "name": "stdout",
     "output_type": "stream",
     "text": [
      "Exercise Recommendation Plan\n",
      "6    1527\n",
      "5    1527\n",
      "4    1527\n",
      "7    1527\n",
      "1    1527\n",
      "3    1527\n",
      "2    1527\n",
      "Name: count, dtype: int64\n",
      "             Weight        Height           Age  Exercise Recommendation Plan\n",
      "count  10689.000000  10689.000000  10689.000000                  10689.000000\n",
      "mean      73.096537      1.792563     41.347554                      4.000000\n",
      "std       21.167430      0.125538     13.746923                      2.000094\n",
      "min       50.000000      1.390171     18.000000                      1.000000\n",
      "25%       55.956581      1.731472     29.000000                      2.000000\n",
      "50%       65.728249      1.805061     41.000000                      4.000000\n",
      "75%       87.356168      1.891175     53.000000                      6.000000\n",
      "max      160.000000      1.990000     65.000000                      7.000000\n"
     ]
    }
   ],
   "source": [
    "import pandas as pd\n",
    "from imblearn.over_sampling import SMOTE\n",
    "\n",
    "DATASET_PATH = r'D:\\StudySpace\\Nam4_KyI\\cap1_ai_feature\\data\\final_dataset_asian.csv'\n",
    "\n",
    "# Load the data\n",
    "df = pd.read_csv(DATASET_PATH)\n",
    "X = df[['Weight', 'Height', 'Age']]\n",
    "y = df['Exercise Recommendation Plan']\n",
    "\n",
    "smote = SMOTE(sampling_strategy='auto', random_state=42)\n",
    "X_resampled, y_resampled = smote.fit_resample(X, y)\n",
    "\n",
    "print(pd.Series(y_resampled).value_counts())\n",
    "updated_df = pd.concat([X_resampled, y_resampled], axis=1)\n",
    "# Save the updated data\n",
    "\n",
    "# df.to_csv(DATASET_PATH, index=False)\n",
    "\n",
    "print(updated_df.describe()) "
   ]
  },
  {
   "cell_type": "markdown",
   "metadata": {},
   "source": [
    "## Oversampling for asian dataset by using SMOTE"
   ]
  },
  {
   "cell_type": "code",
   "execution_count": 3,
   "metadata": {},
   "outputs": [
    {
     "name": "stderr",
     "output_type": "stream",
     "text": [
      "C:\\Users\\ACER\\AppData\\Local\\Temp\\ipykernel_3492\\2789010749.py:25: FutureWarning: Series.__getitem__ treating keys as positions is deprecated. In a future version, integer keys will always be treated as labels (consistent with DataFrame behavior). To access a value by position, use `ser.iloc[pos]`\n",
      "  X_resampled['Gender'] = X_resampled[['Gender_Male']].apply(lambda x: 'Male' if x[0] == 1 else 'Female', axis=1)\n"
     ]
    },
    {
     "name": "stdout",
     "output_type": "stream",
     "text": [
      "Dataset after oversampling:\n",
      "Exercise Recommendation Plan\n",
      "6    1527\n",
      "5    1527\n",
      "4    1527\n",
      "7    1527\n",
      "1    1527\n",
      "3    1527\n",
      "2    1527\n",
      "Name: count, dtype: int64\n"
     ]
    }
   ],
   "source": [
    "import pandas as pd\n",
    "from imblearn.over_sampling import SMOTE\n",
    "\n",
    "# Đường dẫn đến tập dữ liệu gốc\n",
    "DATASET_PATH = r'D:\\StudySpace\\Nam4_KyI\\cap1_ai_feature\\data\\final_dataset_asian.csv'\n",
    "OUTPUT_PATH = r'D:\\StudySpace\\Nam4_KyI\\cap1_ai_feature\\data\\oversampled_dataset.csv'\n",
    "\n",
    "# Tải tập dữ liệu\n",
    "df = pd.read_csv(DATASET_PATH)\n",
    "\n",
    "# Chọn các đặc trưng và nhãn mục tiêu\n",
    "X = df[['Weight', 'Height', 'BMI', 'Gender', 'Age', 'BMIcase']]\n",
    "y = df['Exercise Recommendation Plan']\n",
    "\n",
    "# Transform the categorical columns into one-hot encoded columns\n",
    "X_encoded = pd.get_dummies(X, columns=['Gender', 'BMIcase'], drop_first=True)\n",
    "\n",
    "smote = SMOTE(sampling_strategy='auto', random_state=42)\n",
    "X_resampled, y_resampled = smote.fit_resample(X_encoded, y)\n",
    "\n",
    "# Transform the resampled features back to DataFrame\n",
    "X_resampled = pd.DataFrame(X_resampled, columns=X_encoded.columns)\n",
    "\n",
    "# Process Gender column\n",
    "X_resampled['Gender'] = X_resampled[['Gender_Male']].apply(lambda x: 'Male' if x[0] == 1 else 'Female', axis=1)\n",
    "X_resampled.drop(columns=['Gender_Male'], inplace=True)\n",
    "\n",
    "# Process the BMIcase columns\n",
    "bmicase_columns = [col for col in X_resampled.columns if col.startswith('BMIcase_')]\n",
    "X_resampled['BMIcase'] = X_resampled[bmicase_columns].idxmax(axis=1).apply(lambda x: x.split('_')[1])\n",
    "X_resampled.drop(columns=bmicase_columns, inplace=True)\n",
    "\n",
    "# Combine features and target into a single DataFrame\n",
    "resampled_df = pd.concat([X_resampled, pd.Series(y_resampled, name='Exercise Recommendation Plan')], axis=1)\n",
    "\n",
    "resampled_df.to_csv(OUTPUT_PATH, index=False)\n",
    "\n",
    "print(\"Dataset after oversampling:\")\n",
    "print(resampled_df['Exercise Recommendation Plan'].value_counts())\n"
   ]
  },
  {
   "cell_type": "markdown",
   "metadata": {},
   "source": [
    "## Oversampling for european dataset by using SMOTE"
   ]
  },
  {
   "cell_type": "code",
   "execution_count": 1,
   "metadata": {},
   "outputs": [
    {
     "name": "stderr",
     "output_type": "stream",
     "text": [
      "C:\\Users\\ACER\\AppData\\Local\\Temp\\ipykernel_1988\\1593552405.py:23: FutureWarning: Series.__getitem__ treating keys as positions is deprecated. In a future version, integer keys will always be treated as labels (consistent with DataFrame behavior). To access a value by position, use `ser.iloc[pos]`\n",
      "  X_resampled['Gender'] = X_resampled[['Gender_Male']].apply(lambda x: 'Male' if x[0] == 1 else 'Female', axis=1)\n"
     ]
    },
    {
     "name": "stdout",
     "output_type": "stream",
     "text": [
      "Dataset after oversampling:\n",
      "Exercise Recommendation Plan\n",
      "5    1467\n",
      "4    1467\n",
      "6    1467\n",
      "7    1467\n",
      "1    1467\n",
      "3    1467\n",
      "2    1467\n",
      "Name: count, dtype: int64\n"
     ]
    }
   ],
   "source": [
    "import pandas as pd\n",
    "from imblearn.over_sampling import SMOTE\n",
    "\n",
    "# Đường dẫn đến tập dữ liệu gốc\n",
    "DATASET_PATH = r'D:\\StudySpace\\Nam4_KyI\\cap1_ai_feature\\data\\final_dataset.csv'\n",
    "OUTPUT_PATH = r'D:\\StudySpace\\Nam4_KyI\\cap1_ai_feature\\data\\balanced_dataset_european.csv'\n",
    "\n",
    "df = pd.read_csv(DATASET_PATH)\n",
    "\n",
    "X = df[['Weight', 'Height', 'BMI', 'Gender', 'Age', 'BMIcase']]\n",
    "y = df['Exercise Recommendation Plan']\n",
    "\n",
    "# Transform the categorical columns into one-hot encoded columns\n",
    "X_encoded = pd.get_dummies(X, columns=['Gender', 'BMIcase'], drop_first=True)\n",
    "\n",
    "smote = SMOTE(sampling_strategy='auto', random_state=42)\n",
    "X_resampled, y_resampled = smote.fit_resample(X_encoded, y)\n",
    "\n",
    "# Transform the resampled features back to DataFrame\n",
    "X_resampled = pd.DataFrame(X_resampled, columns=X_encoded.columns)\n",
    "\n",
    "# Process Gender column\n",
    "X_resampled['Gender'] = X_resampled[['Gender_Male']].apply(lambda x: 'Male' if x[0] == 1 else 'Female', axis=1)\n",
    "X_resampled.drop(columns=['Gender_Male'], inplace=True)\n",
    "\n",
    "# Process the BMIcase columns\n",
    "bmicase_columns = [col for col in X_resampled.columns if col.startswith('BMIcase_')]\n",
    "X_resampled['BMIcase'] = X_resampled[bmicase_columns].idxmax(axis=1).apply(lambda x: x.split('_')[1])\n",
    "X_resampled.drop(columns=bmicase_columns, inplace=True)\n",
    "\n",
    "# Combine features and target into a single DataFrame\n",
    "resampled_df = pd.concat([X_resampled, pd.Series(y_resampled, name='Exercise Recommendation Plan')], axis=1)\n",
    "\n",
    "resampled_df.to_csv(OUTPUT_PATH, index=False)\n",
    "\n",
    "print(\"Dataset after oversampling:\")\n",
    "print(resampled_df['Exercise Recommendation Plan'].value_counts())\n"
   ]
  }
 ],
 "metadata": {
  "kernelspec": {
   "display_name": "cap1_ai_feature",
   "language": "python",
   "name": "python3"
  },
  "language_info": {
   "codemirror_mode": {
    "name": "ipython",
    "version": 3
   },
   "file_extension": ".py",
   "mimetype": "text/x-python",
   "name": "python",
   "nbconvert_exporter": "python",
   "pygments_lexer": "ipython3",
   "version": "3.11.4"
  }
 },
 "nbformat": 4,
 "nbformat_minor": 2
}
