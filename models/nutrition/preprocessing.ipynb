{
 "cells": [
  {
   "cell_type": "code",
   "execution_count": 6,
   "metadata": {},
   "outputs": [
    {
     "name": "stdout",
     "output_type": "stream",
     "text": [
      "           name  calories   protein     carbs       fat  food_group_Dairy  \\\n",
      "0         apple -0.542427 -0.559215 -0.272857 -0.382329               0.0   \n",
      "1        banana -0.339053 -0.455989  0.205451 -0.373216               0.0   \n",
      "2        orange -0.558916 -0.478376 -0.340128 -0.383469               0.0   \n",
      "3    grapefruit -0.597393 -0.495787 -0.439709 -0.384038               0.0   \n",
      "4  strawberries -0.652358 -0.508224 -0.597556 -0.374925               0.0   \n",
      "\n",
      "   food_group_Fruits  food_group_Grains  food_group_Healthy Fats  \\\n",
      "0                1.0                0.0                      0.0   \n",
      "1                1.0                0.0                      0.0   \n",
      "2                1.0                0.0                      0.0   \n",
      "3                1.0                0.0                      0.0   \n",
      "4                1.0                0.0                      0.0   \n",
      "\n",
      "   food_group_Protein  food_group_Vegetables  \n",
      "0                 0.0                    0.0  \n",
      "1                 0.0                    0.0  \n",
      "2                 0.0                    0.0  \n",
      "3                 0.0                    0.0  \n",
      "4                 0.0                    0.0  \n"
     ]
    }
   ],
   "source": [
    "import pandas as pd\n",
    "import joblib\n",
    "from sklearn.preprocessing import StandardScaler, OneHotEncoder\n",
    "\n",
    "# Load the cleaned dataset\n",
    "food_df = pd.read_csv(r\"D:\\StudySpace\\Nam4_KyI\\cap1_ai_feature\\data\\food_dataset_new.csv\")\n",
    "\n",
    "\n",
    "\n",
    "# One-Hot Encode Food Groups\n",
    "encoder = OneHotEncoder(handle_unknown='ignore', sparse_output=False)  # Use sparse=False for easier handling\n",
    "encoded_food_groups = pd.DataFrame(encoder.fit_transform(food_df[['food_group']]))\n",
    "encoded_food_groups.columns = encoder.get_feature_names_out(['food_group'])\n",
    "food_df = food_df.drop('food_group', axis=1)\n",
    "food_df = pd.concat([food_df, encoded_food_groups], axis=1)\n",
    "\n",
    "\n",
    "\n",
    "# Normalize Macronutrients\n",
    "scaler = StandardScaler()  # or MinMaxScaler, depending on your needs\n",
    "macro_cols = ['calories', 'protein', 'carbs', 'fat']\n",
    "food_df[macro_cols] = scaler.fit_transform(food_df[macro_cols])\n",
    "\n",
    "print(food_df.head())\n",
    "\n",
    "# Save the scaler\n",
    "joblib.dump(scaler, \"scaler.pkl\")\n",
    "\n",
    "# Save the preprocessed data\n",
    "food_df.to_csv(r\"D:\\StudySpace\\Nam4_KyI\\cap1_ai_feature\\data\\preprocessed_food_dataset.csv\", index=False)"
   ]
  }
 ],
 "metadata": {
  "kernelspec": {
   "display_name": "cap1_ai_feature",
   "language": "python",
   "name": "python3"
  },
  "language_info": {
   "codemirror_mode": {
    "name": "ipython",
    "version": 3
   },
   "file_extension": ".py",
   "mimetype": "text/x-python",
   "name": "python",
   "nbconvert_exporter": "python",
   "pygments_lexer": "ipython3",
   "version": "3.11.4"
  }
 },
 "nbformat": 4,
 "nbformat_minor": 2
}
